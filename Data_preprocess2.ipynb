{
 "cells": [
  {
   "cell_type": "code",
   "execution_count": 1,
   "id": "c1c81df4-129a-4f74-a5f0-bbf74aea5578",
   "metadata": {},
   "outputs": [],
   "source": [
    "import pandas as pd\n",
    "import numpy as np\n",
    "import chardet\n",
    "from sklearn.model_selection import train_test_split, GridSearchCV\n",
    "from sklearn.preprocessing import LabelEncoder\n",
    "from xgboost import XGBRegressor\n",
    "from sklearn.metrics import mean_squared_error, mean_absolute_error, r2_score\n",
    "import matplotlib.pyplot as plt"
   ]
  },
  {
   "cell_type": "code",
   "execution_count": 26,
   "id": "26f31e9f-655d-4d4d-a539-00b421b9ba2d",
   "metadata": {},
   "outputs": [
    {
     "name": "stdout",
     "output_type": "stream",
     "text": [
      "         지점  지점명          일시  평균기온(°C)  평균 상대습도(%)  합계 일조시간(hr)  \\\n",
      "0        90   속초  2014-12-01       1.9        39.3          8.6   \n",
      "1        90   속초  2014-12-02      -3.7        26.5          8.9   \n",
      "2        90   속초  2014-12-03       0.3        37.1          8.2   \n",
      "3        90   속초  2014-12-04      -1.3        29.5          9.0   \n",
      "4        90   속초  2014-12-05      -3.0        31.3          9.0   \n",
      "...     ...  ...         ...       ...         ...          ...   \n",
      "315021  296  북부산  2023-12-27       4.4        62.4          7.8   \n",
      "315022  296  북부산  2023-12-28       3.8        66.6          8.4   \n",
      "315023  296  북부산  2023-12-29       2.5        66.1          8.4   \n",
      "315024  296  북부산  2023-12-30       4.2        73.8          NaN   \n",
      "315025  296  북부산  2023-12-31       6.3        73.9          4.0   \n",
      "\n",
      "        합계 일사량(MJ/m2)  평균 전운량(1/10)  \n",
      "0                 NaN           3.4  \n",
      "1                 NaN           0.3  \n",
      "2                 NaN           1.6  \n",
      "3                 NaN           0.8  \n",
      "4                 NaN           0.0  \n",
      "...               ...           ...  \n",
      "315021          10.59           4.0  \n",
      "315022          10.60           0.1  \n",
      "315023          10.96           1.6  \n",
      "315024            NaN           4.4  \n",
      "315025           7.93           4.6  \n",
      "\n",
      "[315026 rows x 8 columns]\n"
     ]
    }
   ],
   "source": [
    "raw = pd.read_csv('./data/climate/korea_climate_cloud.csv',index_col = False)\n",
    "df_irradiance = raw\n",
    "print(df_irradiance)"
   ]
  },
  {
   "cell_type": "code",
   "execution_count": 27,
   "id": "aefe9728-8806-4c18-a8dd-dd8a8411c98e",
   "metadata": {},
   "outputs": [
    {
     "name": "stdout",
     "output_type": "stream",
     "text": [
      "         지점    일시  평균기온(°C)  평균 상대습도(%)  합계 일조시간(hr)  합계 일사량(MJ/m2)  \\\n",
      "2818     90  2818      24.8        77.8          0.7           0.00   \n",
      "3318     93   670      18.6        79.3          3.8          11.07   \n",
      "3319     93   671      17.0        89.0          0.0           3.19   \n",
      "3320     93   672      20.5        81.1          7.5          16.29   \n",
      "3321     93   673      18.3        72.4         10.6          19.79   \n",
      "...     ...   ...       ...         ...          ...            ...   \n",
      "315017  296  3309      -2.6        45.8          7.8          10.85   \n",
      "315021  296  3313       4.4        62.4          7.8          10.59   \n",
      "315022  296  3314       3.8        66.6          8.4          10.60   \n",
      "315023  296  3315       2.5        66.1          8.4          10.96   \n",
      "315025  296  3317       6.3        73.9          4.0           7.93   \n",
      "\n",
      "        평균 전운량(1/10)  \n",
      "2818             8.4  \n",
      "3318             7.5  \n",
      "3319             9.4  \n",
      "3320             4.8  \n",
      "3321             1.8  \n",
      "...              ...  \n",
      "315017           3.6  \n",
      "315021           4.0  \n",
      "315022           0.1  \n",
      "315023           1.6  \n",
      "315025           4.6  \n",
      "\n",
      "[144814 rows x 7 columns]\n"
     ]
    }
   ],
   "source": [
    "df_irradiance = df_irradiance.dropna()\n",
    "df_irradiance = df_irradiance.drop(columns=['지점명'])\n",
    "label_encoder = LabelEncoder()\n",
    "df_irradiance['일시'] = label_encoder.fit_transform(df_irradiance['일시'])\n",
    "print(df_irradiance)"
   ]
  },
  {
   "cell_type": "code",
   "execution_count": 22,
   "id": "4f9d5cad-8813-49ef-a0ca-527d71b9a654",
   "metadata": {},
   "outputs": [],
   "source": [
    "X = df_irradiance.drop(columns=['합계 일사량(MJ/m2)'])\n",
    "y = df_irradiance['합계 일사량(MJ/m2)']\n",
    "\n",
    "X_train, X_test, y_train, y_test = train_test_split(X, y, test_size=0.2, random_state =42 )\n"
   ]
  },
  {
   "cell_type": "code",
   "execution_count": 23,
   "id": "40c4a851-8639-4f39-b7be-8796a77522e5",
   "metadata": {},
   "outputs": [
    {
     "name": "stdout",
     "output_type": "stream",
     "text": [
      "Fitting 5 folds for each of 3 candidates, totalling 15 fits\n",
      "[CV 1/5] END learning_rate=0.1, max_depth=9, n_estimators=800;, score=-1.393 total time=   3.0s\n",
      "[CV 2/5] END learning_rate=0.1, max_depth=9, n_estimators=800;, score=-1.395 total time=   3.0s\n",
      "[CV 3/5] END learning_rate=0.1, max_depth=9, n_estimators=800;, score=-1.393 total time=   3.1s\n",
      "[CV 4/5] END learning_rate=0.1, max_depth=9, n_estimators=800;, score=-1.401 total time=   2.9s\n",
      "[CV 5/5] END learning_rate=0.1, max_depth=9, n_estimators=800;, score=-1.417 total time=   3.0s\n",
      "[CV 1/5] END learning_rate=0.1, max_depth=9, n_estimators=1000;, score=-1.392 total time=   3.7s\n",
      "[CV 2/5] END learning_rate=0.1, max_depth=9, n_estimators=1000;, score=-1.395 total time=   3.7s\n",
      "[CV 3/5] END learning_rate=0.1, max_depth=9, n_estimators=1000;, score=-1.393 total time=   3.7s\n",
      "[CV 4/5] END learning_rate=0.1, max_depth=9, n_estimators=1000;, score=-1.400 total time=   3.5s\n",
      "[CV 5/5] END learning_rate=0.1, max_depth=9, n_estimators=1000;, score=-1.417 total time=   3.7s\n",
      "[CV 1/5] END learning_rate=0.1, max_depth=9, n_estimators=1200;, score=-1.393 total time=   4.3s\n",
      "[CV 2/5] END learning_rate=0.1, max_depth=9, n_estimators=1200;, score=-1.395 total time=   4.3s\n",
      "[CV 3/5] END learning_rate=0.1, max_depth=9, n_estimators=1200;, score=-1.393 total time=   4.4s\n",
      "[CV 4/5] END learning_rate=0.1, max_depth=9, n_estimators=1200;, score=-1.400 total time=   4.4s\n",
      "[CV 5/5] END learning_rate=0.1, max_depth=9, n_estimators=1200;, score=-1.418 total time=   4.3s\n",
      "Best parameters: {'learning_rate': 0.1, 'max_depth': 9, 'n_estimators': 1000}\n"
     ]
    }
   ],
   "source": [
    "#하이퍼파라미터 그리드 설정\n",
    "param_grid = {\n",
    "    #already done 100,400\n",
    "    'n_estimators':[800,1000,1200],\n",
    "    #already done 0.05,0.2\n",
    "    'learning_rate':[0.1,],\n",
    "    #already done 3,6,11\n",
    "    'max_depth':[9],\n",
    "    # 'subsample' :[0.6,0.8,1.0],\n",
    "    # 'min_child_weight': [1, 5, 10],\n",
    "    # 'colsample_bytree': [0.6, 0.8, 1.0],\n",
    "\n",
    "}\n",
    "model = XGBRegressor()\n",
    "grid_search = GridSearchCV(estimator=model, param_grid=param_grid, scoring='neg_root_mean_squared_error', cv = 5, verbose=3)\n",
    "grid_search.fit(X_train, y_train)\n",
    "best_params = grid_search.best_params_\n",
    "\n",
    "print(f\"Best parameters: {best_params}\")"
   ]
  },
  {
   "cell_type": "code",
   "execution_count": 36,
   "id": "9ba1fc39-fcf1-4fb3-83be-e3eb4aea702b",
   "metadata": {},
   "outputs": [
    {
     "name": "stdout",
     "output_type": "stream",
     "text": [
      "Mean Squared Error (MSE): 1.911142744109557\n",
      "Mean Absolute Error (MAE): 0.983427595806852\n",
      "Root Mean Squared Error (RMSE): 1.3824408645976713\n",
      "R-squared (R2): 0.9634483784062944\n",
      "        Actual  Predicted\n",
      "140785   13.80  12.144712\n",
      "50563     8.78   8.481064\n",
      "43507     6.42   6.460678\n",
      "121524    9.96   6.976803\n",
      "74698    24.70  25.311760\n",
      "...        ...        ...\n",
      "102528    3.94   2.316966\n",
      "260444    3.39   4.024034\n",
      "113122   12.52  14.253346\n",
      "257802    7.97   8.940817\n",
      "140028    8.29   6.768033\n",
      "\n",
      "[28963 rows x 2 columns]\n"
     ]
    }
   ],
   "source": [
    "best_model = grid_search.best_estimator_\n",
    "y_pred = best_model.predict(X_test)\n",
    "\n",
    "mse = mean_squared_error(y_test, y_pred)\n",
    "mae = mean_absolute_error(y_test, y_pred)\n",
    "rmse = np.sqrt(mse)\n",
    "r2 = r2_score(y_test, y_pred)\n",
    "\n",
    "print(f\"Mean Squared Error (MSE): {mse}\")\n",
    "print(f\"Mean Absolute Error (MAE): {mae}\")\n",
    "print(f\"Root Mean Squared Error (RMSE): {rmse}\")\n",
    "print(f\"R-squared (R2): {r2}\")\n",
    "\n",
    "predictions = pd.DataFrame({'Actual': y_test, 'Predicted': y_pred})\n",
    "print(predictions)"
   ]
  },
  {
   "cell_type": "code",
   "execution_count": 32,
   "id": "b1d93910-d8f4-43f1-a2c1-8aa5140f8753",
   "metadata": {},
   "outputs": [
    {
     "name": "stdout",
     "output_type": "stream",
     "text": [
      "         지점    일시  평균기온(°C)  평균 상대습도(%)  합계 일조시간(hr)  평균 전운량(1/10)\n",
      "0        90     0       1.9        39.3          8.6           3.4\n",
      "1        90     1      -3.7        26.5          8.9           0.3\n",
      "2        90     2       0.3        37.1          8.2           1.6\n",
      "3        90     3      -1.3        29.5          9.0           0.8\n",
      "4        90     4      -3.0        31.3          9.0           0.0\n",
      "...     ...   ...       ...         ...          ...           ...\n",
      "314668  295  3315       3.8        66.4          8.0           2.5\n",
      "314669  295  3316       4.9        81.5          5.9           5.6\n",
      "314670  295  3317       6.9        71.3          2.6           4.8\n",
      "314993  296  3285       5.3        58.5          0.0           7.8\n",
      "314998  296  3290       4.4        61.5          0.0           2.5\n",
      "\n",
      "[168992 rows x 6 columns]\n"
     ]
    },
    {
     "name": "stderr",
     "output_type": "stream",
     "text": [
      "/tmp/ipykernel_4938/1435056732.py:10: SettingWithCopyWarning: \n",
      "A value is trying to be set on a copy of a slice from a DataFrame.\n",
      "Try using .loc[row_indexer,col_indexer] = value instead\n",
      "\n",
      "See the caveats in the documentation: https://pandas.pydata.org/pandas-docs/stable/user_guide/indexing.html#returning-a-view-versus-a-copy\n",
      "  df_irradiance_predict['일시'] = label_encoder.fit_transform(df_irradiance_predict['일시'])\n"
     ]
    }
   ],
   "source": [
    "df_irradiance_predict = raw.drop(columns=['지점명'])\n",
    "\n",
    "# '합계 일사량(MJ/m2)' 열에 NaN이 있는 행들을 필터링\n",
    "nan_rows = df_irradiance_predict[df_irradiance_predict['합계 일사량(MJ/m2)'].isna()]\n",
    "\n",
    "# 다른 열들에 NaN이 없는 행들만 선택\n",
    "non_nan_columns = nan_rows.columns.difference(['합계 일사량(MJ/m2)'])\n",
    "df_irradiance_predict = nan_rows.dropna(subset=non_nan_columns)\n",
    "\n",
    "df_irradiance_predict['일시'] = label_encoder.fit_transform(df_irradiance_predict['일시'])\n",
    "df_irradiance_predict = df_irradiance_predict.drop(columns = ['합계 일사량(MJ/m2)'])\n",
    "print(df_irradiance_predict)"
   ]
  },
  {
   "cell_type": "code",
   "execution_count": 39,
   "id": "fba324d4-65ce-4006-8c92-819c1a72bce8",
   "metadata": {},
   "outputs": [
    {
     "name": "stdout",
     "output_type": "stream",
     "text": [
      "         지점  지점명          일시  평균기온(°C)  평균 상대습도(%)  합계 일조시간(hr)  \\\n",
      "0        90   속초  2014-12-01       1.9        39.3          8.6   \n",
      "1        90   속초  2014-12-02      -3.7        26.5          8.9   \n",
      "2        90   속초  2014-12-03       0.3        37.1          8.2   \n",
      "3        90   속초  2014-12-04      -1.3        29.5          9.0   \n",
      "4        90   속초  2014-12-05      -3.0        31.3          9.0   \n",
      "...     ...  ...         ...       ...         ...          ...   \n",
      "315021  296  북부산  2023-12-27       4.4        62.4          7.8   \n",
      "315022  296  북부산  2023-12-28       3.8        66.6          8.4   \n",
      "315023  296  북부산  2023-12-29       2.5        66.1          8.4   \n",
      "315024  296  북부산  2023-12-30       4.2        73.8          NaN   \n",
      "315025  296  북부산  2023-12-31       6.3        73.9          4.0   \n",
      "\n",
      "        합계 일사량(MJ/m2)  평균 전운량(1/10)  \n",
      "0            9.593059           3.4  \n",
      "1           11.134921           0.3  \n",
      "2           10.280556           1.6  \n",
      "3           10.913384           0.8  \n",
      "4           10.932026           0.0  \n",
      "...               ...           ...  \n",
      "315021      10.590000           4.0  \n",
      "315022      10.600000           0.1  \n",
      "315023      10.960000           1.6  \n",
      "315024            NaN           4.4  \n",
      "315025       7.930000           4.6  \n",
      "\n",
      "[315026 rows x 8 columns]\n"
     ]
    }
   ],
   "source": [
    "\n",
    "#원본과 같은 인덱스인지 검사 \n",
    "# for index in df_irradiance_predict.index:\n",
    "#     if(df_irradiance_predict.loc[index, '평균기온(°C)']==raw.loc[index, '평균기온(°C)']):\n",
    "#        print(\"일치\")\n",
    "\n",
    "#실제 일사량 결측치 대입\n",
    "for index in df_irradiance_predict.index:\n",
    "    row = df_irradiance_predict.loc[index].values.reshape(1,-1)\n",
    "    y = best_model.predict(row)\n",
    "    raw.loc[index, '합계 일사량(MJ/m2)'] = y\n",
    "print(raw)\n",
    "raw.to_csv('./data/climate/korea_climate_irradiance.csv',index = False)"
   ]
  },
  {
   "cell_type": "code",
   "execution_count": null,
   "id": "90f88303-b29d-46c6-8581-5e2c409877c2",
   "metadata": {},
   "outputs": [],
   "source": []
  }
 ],
 "metadata": {
  "kernelspec": {
   "display_name": "Python (solarenv)",
   "language": "python",
   "name": "solarenv"
  },
  "language_info": {
   "codemirror_mode": {
    "name": "ipython",
    "version": 3
   },
   "file_extension": ".py",
   "mimetype": "text/x-python",
   "name": "python",
   "nbconvert_exporter": "python",
   "pygments_lexer": "ipython3",
   "version": "3.12.3"
  }
 },
 "nbformat": 4,
 "nbformat_minor": 5
}
